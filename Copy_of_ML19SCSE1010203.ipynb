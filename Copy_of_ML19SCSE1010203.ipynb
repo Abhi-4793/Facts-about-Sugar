{
  "nbformat": 4,
  "nbformat_minor": 0,
  "metadata": {
    "colab": {
      "name": "Copy of ML19SCSE1010203.ipynb",
      "provenance": [],
      "collapsed_sections": [],
      "authorship_tag": "ABX9TyNFEeg7JppVMV/xJ+SmqZ7p",
      "include_colab_link": true
    },
    "kernelspec": {
      "name": "python3",
      "display_name": "Python 3"
    }
  },
  "cells": [
    {
      "cell_type": "markdown",
      "metadata": {
        "id": "view-in-github",
        "colab_type": "text"
      },
      "source": [
        "<a href=\"https://colab.research.google.com/github/Abhi-4793/Facts-about-Sugar/blob/master/Copy_of_ML19SCSE1010203.ipynb\" target=\"_parent\"><img src=\"https://colab.research.google.com/assets/colab-badge.svg\" alt=\"Open In Colab\"/></a>"
      ]
    },
    {
      "cell_type": "code",
      "metadata": {
        "id": "dOBCb7jH7NK9",
        "colab_type": "code",
        "outputId": "45e01b8f-986e-471c-9749-806f626ee860",
        "colab": {
          "base_uri": "https://localhost:8080/",
          "height": 34
        }
      },
      "source": [
        "print(\"Hello,world//\")"
      ],
      "execution_count": 0,
      "outputs": [
        {
          "output_type": "stream",
          "text": [
            "Hello,world//\n"
          ],
          "name": "stdout"
        }
      ]
    },
    {
      "cell_type": "code",
      "metadata": {
        "id": "O-aOTETr7VNF",
        "colab_type": "code",
        "outputId": "27e5a3a2-6d95-441e-bc9f-b8cd1621b838",
        "colab": {
          "base_uri": "https://localhost:8080/",
          "height": 34
        }
      },
      "source": [
        "x=10\n",
        "y=12\n",
        "sum=x+y\n",
        "print(sum)"
      ],
      "execution_count": 0,
      "outputs": [
        {
          "output_type": "stream",
          "text": [
            "22\n"
          ],
          "name": "stdout"
        }
      ]
    },
    {
      "cell_type": "code",
      "metadata": {
        "id": "OjSVg9o-9LTQ",
        "colab_type": "code",
        "outputId": "d2175fe4-d2ab-4f46-8514-74175f9be22c",
        "colab": {
          "base_uri": "https://localhost:8080/",
          "height": 34
        }
      },
      "source": [
        "x=10\n",
        "print(type(x))"
      ],
      "execution_count": 0,
      "outputs": [
        {
          "output_type": "stream",
          "text": [
            "<class 'int'>\n"
          ],
          "name": "stdout"
        }
      ]
    },
    {
      "cell_type": "code",
      "metadata": {
        "id": "VAT0c3m69i91",
        "colab_type": "code",
        "outputId": "e77f42d4-2e6b-48c6-913e-3ca05a6f5baf",
        "colab": {
          "base_uri": "https://localhost:8080/",
          "height": 34
        }
      },
      "source": [
        "x=10.5\n",
        "print(type(x))"
      ],
      "execution_count": 0,
      "outputs": [
        {
          "output_type": "stream",
          "text": [
            "<class 'float'>\n"
          ],
          "name": "stdout"
        }
      ]
    },
    {
      "cell_type": "code",
      "metadata": {
        "id": "eADq_D0w-BLr",
        "colab_type": "code",
        "outputId": "4014f7dd-4383-48f8-a2b5-95e7ed58e5ba",
        "colab": {
          "base_uri": "https://localhost:8080/",
          "height": 34
        }
      },
      "source": [
        "x=range(5)\n",
        "print(x)"
      ],
      "execution_count": 0,
      "outputs": [
        {
          "output_type": "stream",
          "text": [
            "range(0, 5)\n"
          ],
          "name": "stdout"
        }
      ]
    },
    {
      "cell_type": "code",
      "metadata": {
        "id": "0iobxUdG-HK8",
        "colab_type": "code",
        "outputId": "50bc03e1-5311-4a6b-8874-455055b08d7d",
        "colab": {
          "base_uri": "https://localhost:8080/",
          "height": 68
        }
      },
      "source": [
        "x=1  #int\n",
        "y=2.8 #float\n",
        "z=1j  #complex\n",
        "print(type(x))\n",
        "print(type(y))\n",
        "print(type(z))"
      ],
      "execution_count": 0,
      "outputs": [
        {
          "output_type": "stream",
          "text": [
            "<class 'int'>\n",
            "<class 'float'>\n",
            "<class 'complex'>\n"
          ],
          "name": "stdout"
        }
      ]
    },
    {
      "cell_type": "code",
      "metadata": {
        "id": "ay5X80_2-s2L",
        "colab_type": "code",
        "outputId": "65793b0b-0411-4752-ca81-74cf68840c40",
        "colab": {
          "base_uri": "https://localhost:8080/",
          "height": 68
        }
      },
      "source": [
        "x=int(1)   #x will be 1\n",
        "y=int(2.8)  #y will be 2\n",
        "z=int(\"3\")   #zwill be 3\n",
        "print(x)\n",
        "print(y)\n",
        "print(z)"
      ],
      "execution_count": 0,
      "outputs": [
        {
          "output_type": "stream",
          "text": [
            "1\n",
            "2\n",
            "3\n"
          ],
          "name": "stdout"
        }
      ]
    },
    {
      "cell_type": "code",
      "metadata": {
        "id": "CIDwqiRF_Jz3",
        "colab_type": "code",
        "outputId": "50ee4c1f-7750-4c43-9237-f40e2b6bc92a",
        "colab": {
          "base_uri": "https://localhost:8080/",
          "height": 34
        }
      },
      "source": [
        "a=\"you are doing great\"\n",
        "print(a)"
      ],
      "execution_count": 0,
      "outputs": [
        {
          "output_type": "stream",
          "text": [
            "you are doing great\n"
          ],
          "name": "stdout"
        }
      ]
    },
    {
      "cell_type": "code",
      "metadata": {
        "id": "zROKSENhAXNf",
        "colab_type": "code",
        "outputId": "8556be01-bc0a-449f-ef1e-9eb29ead92a8",
        "colab": {
          "base_uri": "https://localhost:8080/",
          "height": 68
        }
      },
      "source": [
        "a=\"Hello,World\"\n",
        "print(a[1])\n",
        "print(a[5])\n",
        "print(a[8])"
      ],
      "execution_count": 0,
      "outputs": [
        {
          "output_type": "stream",
          "text": [
            "e\n",
            ",\n",
            "r\n"
          ],
          "name": "stdout"
        }
      ]
    },
    {
      "cell_type": "code",
      "metadata": {
        "id": "zP7BYNgOAm7b",
        "colab_type": "code",
        "outputId": "10cf078c-8f0a-4e2a-8411-151663870352",
        "colab": {
          "base_uri": "https://localhost:8080/",
          "height": 34
        }
      },
      "source": [
        "b=\"section 5 is doing well!!\"\n",
        "print(b[2:8])"
      ],
      "execution_count": 0,
      "outputs": [
        {
          "output_type": "stream",
          "text": [
            "ction \n"
          ],
          "name": "stdout"
        }
      ]
    },
    {
      "cell_type": "code",
      "metadata": {
        "id": "P9WHA8Q3A9gC",
        "colab_type": "code",
        "outputId": "2cc53f02-03a0-4200-831f-32850dcab9a9",
        "colab": {
          "base_uri": "https://localhost:8080/",
          "height": 34
        }
      },
      "source": [
        "a=\"wah kya baat hai\"\n",
        "print(len(a))"
      ],
      "execution_count": 0,
      "outputs": [
        {
          "output_type": "stream",
          "text": [
            "16\n"
          ],
          "name": "stdout"
        }
      ]
    },
    {
      "cell_type": "code",
      "metadata": {
        "id": "6eYZPTYCBEeP",
        "colab_type": "code",
        "outputId": "81f35d7e-8f98-489f-f6ec-bb7bf900bbcd",
        "colab": {
          "base_uri": "https://localhost:8080/",
          "height": 34
        }
      },
      "source": [
        "a=\"I WILL PLAY\"\n",
        "print(a.upper())"
      ],
      "execution_count": 0,
      "outputs": [
        {
          "output_type": "stream",
          "text": [
            "I WILL PLAY\n"
          ],
          "name": "stdout"
        }
      ]
    },
    {
      "cell_type": "code",
      "metadata": {
        "id": "boreZ35YB2pR",
        "colab_type": "code",
        "outputId": "f0a09e15-f796-45a3-e37c-4bca94089645",
        "colab": {
          "base_uri": "https://localhost:8080/",
          "height": 34
        }
      },
      "source": [
        "a=\"Hello,World\"\n",
        "print(a.upper())"
      ],
      "execution_count": 0,
      "outputs": [
        {
          "output_type": "stream",
          "text": [
            "HELLO,WORLD\n"
          ],
          "name": "stdout"
        }
      ]
    },
    {
      "cell_type": "code",
      "metadata": {
        "id": "ENYq8JXfCRrJ",
        "colab_type": "code",
        "outputId": "c549fe10-5f1a-4fde-fe5f-f6f5c45bfd04",
        "colab": {
          "base_uri": "https://localhost:8080/",
          "height": 34
        }
      },
      "source": [
        "a=\"galgotias\"\n",
        "b=\"university\"\n",
        "c=a+b\n",
        "print(c)"
      ],
      "execution_count": 0,
      "outputs": [
        {
          "output_type": "stream",
          "text": [
            "galgotiasuniversity\n"
          ],
          "name": "stdout"
        }
      ]
    },
    {
      "cell_type": "code",
      "metadata": {
        "id": "QPkyZNPqDSFR",
        "colab_type": "code",
        "outputId": "5ffe3b96-6074-4bfc-e920-6750027e1e3a",
        "colab": {
          "base_uri": "https://localhost:8080/",
          "height": 34
        }
      },
      "source": [
        "quantity=3\n",
        "itemno=567\n",
        "price=49.95\n",
        "myorder=\"i want {} pieces of item {} dollars\"\n",
        "print(myorder.format(quantity,itemno,price))"
      ],
      "execution_count": 0,
      "outputs": [
        {
          "output_type": "stream",
          "text": [
            "i want 3 pieces of item 567 dollars\n"
          ],
          "name": "stdout"
        }
      ]
    },
    {
      "cell_type": "code",
      "metadata": {
        "id": "zK14euC4ER0P",
        "colab_type": "code",
        "outputId": "dee99ef8-9fa0-441c-b8c3-9eeb294abae5",
        "colab": {
          "base_uri": "https://localhost:8080/",
          "height": 51
        }
      },
      "source": [
        "x=input()\n",
        "print(x)"
      ],
      "execution_count": 0,
      "outputs": [
        {
          "output_type": "stream",
          "text": [
            "12\n",
            "12\n"
          ],
          "name": "stdout"
        }
      ]
    },
    {
      "cell_type": "code",
      "metadata": {
        "id": "IH5TmdSDUjKv",
        "colab_type": "code",
        "colab": {}
      },
      "source": [
        "x=input\n"
      ],
      "execution_count": 0,
      "outputs": []
    },
    {
      "cell_type": "code",
      "metadata": {
        "id": "AM1gihQ3WLoh",
        "colab_type": "code",
        "outputId": "12ad23af-eb6e-45b3-8c69-2318973b41e5",
        "colab": {
          "base_uri": "https://localhost:8080/",
          "height": 68
        }
      },
      "source": [
        "a=int(input(\"enter the first no :\"))\n",
        "b=int(input(\"enter second no:\"))\n",
        "c=a+b\n",
        "print(\"sum=\",c)\n",
        "\n",
        "\n",
        "\n"
      ],
      "execution_count": 0,
      "outputs": [
        {
          "output_type": "stream",
          "text": [
            "enter the first no :5\n",
            "enter second no:6\n",
            "sum= 11\n"
          ],
          "name": "stdout"
        }
      ]
    },
    {
      "cell_type": "code",
      "metadata": {
        "id": "wTyuiqdjWVPO",
        "colab_type": "code",
        "outputId": "88394822-c8eb-4811-a6bd-b49cbc281e3e",
        "colab": {
          "base_uri": "https://localhost:8080/",
          "height": 85
        }
      },
      "source": [
        "a=int(input())\n",
        "b=int(input())\n",
        "c=int(input())\n",
        "avg=(a+b+c)/3\n",
        "print(\"average\",avg)"
      ],
      "execution_count": 0,
      "outputs": [
        {
          "output_type": "stream",
          "text": [
            "5\n",
            "6\n",
            "8\n",
            "average 6.333333333333333\n"
          ],
          "name": "stdout"
        }
      ]
    },
    {
      "cell_type": "code",
      "metadata": {
        "id": "JMNJUMAmY6c8",
        "colab_type": "code",
        "outputId": "a6818e0a-dc62-4dd9-833b-2d3386441b99",
        "colab": {
          "base_uri": "https://localhost:8080/",
          "height": 51
        }
      },
      "source": [
        "a=int(input(\"enter the no\"))\n",
        "if a%2==0:\n",
        "  print(\"even no\")\n",
        "else:\n",
        "    print(\"odd no\")\n"
      ],
      "execution_count": 0,
      "outputs": [
        {
          "output_type": "stream",
          "text": [
            "enter the no5\n",
            "odd no\n"
          ],
          "name": "stdout"
        }
      ]
    },
    {
      "cell_type": "code",
      "metadata": {
        "id": "IJGkoSz6ZoIt",
        "colab_type": "code",
        "outputId": "155982e9-6c16-4cd0-a6a0-606b3b83f84e",
        "colab": {
          "base_uri": "https://localhost:8080/",
          "height": 34
        }
      },
      "source": [
        "thislist=[\"apple\",\"banana\",\"cherry\",12,13,14]\n",
        "print(thislist[3])"
      ],
      "execution_count": 0,
      "outputs": [
        {
          "output_type": "stream",
          "text": [
            "12\n"
          ],
          "name": "stdout"
        }
      ]
    },
    {
      "cell_type": "code",
      "metadata": {
        "id": "p8I8jUzDcFFg",
        "colab_type": "code",
        "outputId": "a08bd4d8-4035-4b12-909d-3546fff09a48",
        "colab": {
          "base_uri": "https://localhost:8080/",
          "height": 34
        }
      },
      "source": [
        "thislist=[\"apple\",\"banana\",\"cherry\",12,13,14]\n",
        "print(thislist[-1])"
      ],
      "execution_count": 0,
      "outputs": [
        {
          "output_type": "stream",
          "text": [
            "14\n"
          ],
          "name": "stdout"
        }
      ]
    },
    {
      "cell_type": "code",
      "metadata": {
        "id": "LpYdTVe5cOK8",
        "colab_type": "code",
        "outputId": "ac896ac6-8b2c-44e2-b9d3-04cffd0a79cf",
        "colab": {
          "base_uri": "https://localhost:8080/",
          "height": 34
        }
      },
      "source": [
        "thislist=[\"apple\",\"banana\",\"cherry\",12,13,14]\n",
        "print(thislist)"
      ],
      "execution_count": 0,
      "outputs": [
        {
          "output_type": "stream",
          "text": [
            "['apple', 'banana', 'cherry', 12, 13, 14]\n"
          ],
          "name": "stdout"
        }
      ]
    },
    {
      "cell_type": "code",
      "metadata": {
        "id": "kp_tukaecXZx",
        "colab_type": "code",
        "outputId": "9e18628a-ddce-4555-9f8c-1128f0117fe5",
        "colab": {
          "base_uri": "https://localhost:8080/",
          "height": 34
        }
      },
      "source": [
        "thislist=[\"apple\",\"banana\",\"cherry\",12,13,14]\n",
        "print(thislist[2:5])\n"
      ],
      "execution_count": 0,
      "outputs": [
        {
          "output_type": "stream",
          "text": [
            "['cherry', 12, 13]\n"
          ],
          "name": "stdout"
        }
      ]
    },
    {
      "cell_type": "code",
      "metadata": {
        "id": "_PcxG8NBcdFo",
        "colab_type": "code",
        "outputId": "0fd352d1-8bb4-41c4-f896-c5f86f872036",
        "colab": {
          "base_uri": "https://localhost:8080/",
          "height": 34
        }
      },
      "source": [
        "thislist=[\"apple\",\"banana\",\"cherry\",12,13,14]\n",
        "thislist[1]=\"orange\"\n",
        "print(thislist)"
      ],
      "execution_count": 0,
      "outputs": [
        {
          "output_type": "stream",
          "text": [
            "['apple', 'orange', 'cherry', 12, 13, 14]\n"
          ],
          "name": "stdout"
        }
      ]
    },
    {
      "cell_type": "code",
      "metadata": {
        "id": "P2L7j1gZec9O",
        "colab_type": "code",
        "outputId": "a5a56166-504b-4337-e4ab-accd32572fb2",
        "colab": {
          "base_uri": "https://localhost:8080/",
          "height": 180
        }
      },
      "source": [
        "thislitst=[\"apple\",\"banana\",\"cherry\",12,13,14]\n",
        "x=int.thislist(input())"
      ],
      "execution_count": 0,
      "outputs": [
        {
          "output_type": "error",
          "ename": "AttributeError",
          "evalue": "ignored",
          "traceback": [
            "\u001b[0;31m---------------------------------------------------------------------------\u001b[0m",
            "\u001b[0;31mAttributeError\u001b[0m                            Traceback (most recent call last)",
            "\u001b[0;32m<ipython-input-48-feeb2bd58a90>\u001b[0m in \u001b[0;36m<module>\u001b[0;34m()\u001b[0m\n\u001b[1;32m      1\u001b[0m \u001b[0mthislitst\u001b[0m\u001b[0;34m=\u001b[0m\u001b[0;34m[\u001b[0m\u001b[0;34m\"apple\"\u001b[0m\u001b[0;34m,\u001b[0m\u001b[0;34m\"banana\"\u001b[0m\u001b[0;34m,\u001b[0m\u001b[0;34m\"cherry\"\u001b[0m\u001b[0;34m,\u001b[0m\u001b[0;36m12\u001b[0m\u001b[0;34m,\u001b[0m\u001b[0;36m13\u001b[0m\u001b[0;34m,\u001b[0m\u001b[0;36m14\u001b[0m\u001b[0;34m]\u001b[0m\u001b[0;34m\u001b[0m\u001b[0;34m\u001b[0m\u001b[0m\n\u001b[0;32m----> 2\u001b[0;31m \u001b[0mx\u001b[0m\u001b[0;34m=\u001b[0m\u001b[0mint\u001b[0m\u001b[0;34m.\u001b[0m\u001b[0mthislist\u001b[0m\u001b[0;34m(\u001b[0m\u001b[0minput\u001b[0m\u001b[0;34m(\u001b[0m\u001b[0;34m)\u001b[0m\u001b[0;34m)\u001b[0m\u001b[0;34m\u001b[0m\u001b[0;34m\u001b[0m\u001b[0m\n\u001b[0m",
            "\u001b[0;31mAttributeError\u001b[0m: type object 'int' has no attribute 'thislist'"
          ]
        }
      ]
    },
    {
      "cell_type": "code",
      "metadata": {
        "id": "c-ozD2oJf1QC",
        "colab_type": "code",
        "outputId": "d42075f8-e798-43c2-fefe-7ef8e71514ae",
        "colab": {
          "base_uri": "https://localhost:8080/",
          "height": 119
        }
      },
      "source": [
        "thislist=[\"apple\",\"banana\",\"cherry\",12,13,14]\n",
        "x=int(input())\n",
        "y=int(input())\n",
        "z=int(input())\n",
        "a=int(input())\n",
        "b=int(input())\n",
        "thislist.append(x)\n",
        "thislist.append(y)\n",
        "thislist.append(z)\n",
        "thislist.append(a)\n",
        "thislist.append(b)\n",
        "print(thislist)\n",
        "\n",
        "\n"
      ],
      "execution_count": 0,
      "outputs": [
        {
          "output_type": "stream",
          "text": [
            "8\n",
            "9\n",
            "5\n",
            "4\n",
            "8\n",
            "['apple', 'banana', 'cherry', 12, 13, 14, 8, 9, 5, 4, 8]\n"
          ],
          "name": "stdout"
        }
      ]
    },
    {
      "cell_type": "code",
      "metadata": {
        "id": "KvJgFsORhFH-",
        "colab_type": "code",
        "outputId": "b87795ab-0585-4175-e0d6-c8afa6e0d549",
        "colab": {
          "base_uri": "https://localhost:8080/",
          "height": 34
        }
      },
      "source": [
        "thisdict = {\n",
        "    \"brand\":\"ford\",\n",
        "    \"model\":\"mustang\",\n",
        "    \"year\":1964\n",
        "}\n",
        "print(thisdict)"
      ],
      "execution_count": 0,
      "outputs": [
        {
          "output_type": "stream",
          "text": [
            "{'brand': 'ford', 'model': 'mustang', 'year': 1964}\n"
          ],
          "name": "stdout"
        }
      ]
    },
    {
      "cell_type": "code",
      "metadata": {
        "id": "IxaVIHlYiEnO",
        "colab_type": "code",
        "outputId": "310579c4-34fb-4b35-e8dd-12833d4de8d1",
        "colab": {
          "base_uri": "https://localhost:8080/",
          "height": 68
        }
      },
      "source": [
        "for x in thisdict.values():\n",
        "  print(x)"
      ],
      "execution_count": 0,
      "outputs": [
        {
          "output_type": "stream",
          "text": [
            "ford\n",
            "mustang\n",
            "1964\n"
          ],
          "name": "stdout"
        }
      ]
    },
    {
      "cell_type": "code",
      "metadata": {
        "id": "pEK17m8vikJB",
        "colab_type": "code",
        "outputId": "54f7e3e9-b311-43b9-d3fb-f7bd12bb7e45",
        "colab": {
          "base_uri": "https://localhost:8080/",
          "height": 68
        }
      },
      "source": [
        "for x in thisdict:\n",
        "   print(x)"
      ],
      "execution_count": 0,
      "outputs": [
        {
          "output_type": "stream",
          "text": [
            "brand\n",
            "model\n",
            "year\n"
          ],
          "name": "stdout"
        }
      ]
    },
    {
      "cell_type": "code",
      "metadata": {
        "id": "jw_iMnIjiv9f",
        "colab_type": "code",
        "outputId": "49939482-b1e0-462e-c751-a0a5b6332517",
        "colab": {
          "base_uri": "https://localhost:8080/",
          "height": 68
        }
      },
      "source": [
        "for x,y in thisdict.items():\n",
        "  print(x,y)"
      ],
      "execution_count": 0,
      "outputs": [
        {
          "output_type": "stream",
          "text": [
            "brand ford\n",
            "model mustang\n",
            "year 1964\n"
          ],
          "name": "stdout"
        }
      ]
    },
    {
      "cell_type": "code",
      "metadata": {
        "id": "QSfMMaRYjF-f",
        "colab_type": "code",
        "outputId": "d8fae6a1-c912-4caa-ed7e-da4f9e0e47d9",
        "colab": {
          "base_uri": "https://localhost:8080/",
          "height": 34
        }
      },
      "source": [
        "a=33\n",
        "b=200\n",
        "if b > a:\n",
        "  print(\"b is grester than a::\")\n",
        "else:\n",
        "    print(\"a is greater\")"
      ],
      "execution_count": 0,
      "outputs": [
        {
          "output_type": "stream",
          "text": [
            "b is grester than a::\n"
          ],
          "name": "stdout"
        }
      ]
    },
    {
      "cell_type": "code",
      "metadata": {
        "id": "YQEAYlrckdVX",
        "colab_type": "code",
        "outputId": "f4b17569-7df5-4622-a39b-0be130939c20",
        "colab": {
          "base_uri": "https://localhost:8080/",
          "height": 34
        }
      },
      "source": [
        "a=33\n",
        "b=33\n",
        "if b > a:\n",
        "  print(\"b is grester than a::\")\n",
        "elif a == b:\n",
        "    print(\"a and b is equal\")"
      ],
      "execution_count": 0,
      "outputs": [
        {
          "output_type": "stream",
          "text": [
            "a and b is equal\n"
          ],
          "name": "stdout"
        }
      ]
    },
    {
      "cell_type": "code",
      "metadata": {
        "id": "ZuBxf6luk8ej",
        "colab_type": "code",
        "outputId": "30054317-1789-4e98-ca40-9dc8b0b23a33",
        "colab": {
          "base_uri": "https://localhost:8080/",
          "height": 34
        }
      },
      "source": [
        "a=200\n",
        "b=33\n",
        "if b > a:\n",
        "  print(\"b is grester than a::\")\n",
        "elif a == b:\n",
        "    print(\"a and b is equal\")\n",
        "else:\n",
        "     print(\"a is greater\")    "
      ],
      "execution_count": 0,
      "outputs": [
        {
          "output_type": "stream",
          "text": [
            "a is greater\n"
          ],
          "name": "stdout"
        }
      ]
    },
    {
      "cell_type": "code",
      "metadata": {
        "id": "l8BTP5WnmiF9",
        "colab_type": "code",
        "outputId": "8258d9fe-989b-4ab9-858a-efc7547d6c11",
        "colab": {
          "base_uri": "https://localhost:8080/",
          "height": 85
        }
      },
      "source": [
        "a=int(input())\n",
        "b=int(input())\n",
        "c=int(input())\n",
        "if a>b and a>c:\n",
        "  print(\"a is maximum\")\n",
        "elif b>a and b>c:\n",
        "  print(\"b is maximum\")\n",
        "else:\n",
        "    print(\"c is maximum\")  "
      ],
      "execution_count": 0,
      "outputs": [
        {
          "output_type": "stream",
          "text": [
            "8\n",
            "9\n",
            "1\n",
            "b is greatest\n"
          ],
          "name": "stdout"
        }
      ]
    },
    {
      "cell_type": "code",
      "metadata": {
        "id": "HX-uf-5Solet",
        "colab_type": "code",
        "outputId": "b71785c0-99cc-4b5f-965a-dccecb46e177",
        "colab": {
          "base_uri": "https://localhost:8080/",
          "height": 85
        }
      },
      "source": [
        "a=int(input())\n",
        "b=int(input())\n",
        "c=int(input())\n",
        "if a<b and a<c:\n",
        "  print(\"a is minimum\")\n",
        "elif b<a and b<c:\n",
        "  print(\"b is minimum\")\n",
        "else:\n",
        "    print(\"c is minimum\") "
      ],
      "execution_count": 0,
      "outputs": [
        {
          "output_type": "stream",
          "text": [
            "5\n",
            "8\n",
            "9\n",
            "a is minimum\n"
          ],
          "name": "stdout"
        }
      ]
    },
    {
      "cell_type": "code",
      "metadata": {
        "id": "5pQbKCD3pHYI",
        "colab_type": "code",
        "outputId": "83dfdcc3-e5c5-4acb-e0f9-ae3c61d759f5",
        "colab": {
          "base_uri": "https://localhost:8080/",
          "height": 34
        }
      },
      "source": [
        "def f1():\n",
        "  print(\"hello fromm a function::\")\n",
        "f1()"
      ],
      "execution_count": 0,
      "outputs": [
        {
          "output_type": "stream",
          "text": [
            "hello fromm a function::\n"
          ],
          "name": "stdout"
        }
      ]
    },
    {
      "cell_type": "code",
      "metadata": {
        "id": "xR58IOBbxA83",
        "colab_type": "code",
        "colab": {}
      },
      "source": [
        "def f1():\n",
        "   for x in range(1,11):\n",
        "      a=int(input())\n",
        " \n",
        "f1()  "
      ],
      "execution_count": 0,
      "outputs": []
    },
    {
      "cell_type": "code",
      "metadata": {
        "id": "SB64x7lOzjoW",
        "colab_type": "code",
        "outputId": "ce671c55-6b24-407f-a521-ef040e7bb5ba",
        "colab": {
          "base_uri": "https://localhost:8080/",
          "height": 129
        }
      },
      "source": [
        "def sum(numbers):\n",
        "   total=0\n",
        "   for x in numbers:\n",
        "       total += x\n",
        "   return total\n",
        "\n",
        "\n",
        "\n",
        " x=[1,2,3,4,5] \n",
        " print(sum(x))     \n"
      ],
      "execution_count": 0,
      "outputs": [
        {
          "output_type": "error",
          "ename": "SyntaxError",
          "evalue": "ignored",
          "traceback": [
            "\u001b[0;36m  File \u001b[0;32m\"<ipython-input-80-f3a7ab730bb0>\"\u001b[0;36m, line \u001b[0;32m1\u001b[0m\n\u001b[0;31m    def sum(numbers)\u001b[0m\n\u001b[0m                    ^\u001b[0m\n\u001b[0;31mSyntaxError\u001b[0m\u001b[0;31m:\u001b[0m invalid syntax\n"
          ]
        }
      ]
    },
    {
      "cell_type": "code",
      "metadata": {
        "id": "sprDDitj1w3w",
        "colab_type": "code",
        "colab": {}
      },
      "source": [
        ""
      ],
      "execution_count": 0,
      "outputs": []
    }
  ]
}